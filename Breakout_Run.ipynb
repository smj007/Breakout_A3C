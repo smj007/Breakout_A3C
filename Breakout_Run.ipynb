{
  "nbformat": 4,
  "nbformat_minor": 0,
  "metadata": {
    "colab": {
      "name": "Breakout_Run.ipynb",
      "provenance": []
    },
    "kernelspec": {
      "name": "python3",
      "display_name": "Python 3"
    },
    "accelerator": "GPU"
  },
  "cells": [
    {
      "cell_type": "code",
      "metadata": {
        "id": "o3g3fF1HSzI5",
        "colab_type": "code",
        "colab": {
          "base_uri": "https://localhost:8080/",
          "height": 122
        },
        "outputId": "188671de-ade7-47e3-efa6-6ac9d4640a57"
      },
      "source": [
        "from google.colab import drive\n",
        "drive.mount('/content/gdrive')\n",
        "#%cd #file path here or go through each "
      ],
      "execution_count": 1,
      "outputs": [
        {
          "output_type": "stream",
          "text": [
            "Go to this URL in a browser: https://accounts.google.com/o/oauth2/auth?client_id=947318989803-6bn6qk8qdgf4n4g3pfee6491hc0brc4i.apps.googleusercontent.com&redirect_uri=urn%3aietf%3awg%3aoauth%3a2.0%3aoob&response_type=code&scope=email%20https%3a%2f%2fwww.googleapis.com%2fauth%2fdocs.test%20https%3a%2f%2fwww.googleapis.com%2fauth%2fdrive%20https%3a%2f%2fwww.googleapis.com%2fauth%2fdrive.photos.readonly%20https%3a%2f%2fwww.googleapis.com%2fauth%2fpeopleapi.readonly\n",
            "\n",
            "Enter your authorization code:\n",
            "··········\n",
            "Mounted at /content/gdrive\n"
          ],
          "name": "stdout"
        }
      ]
    },
    {
      "cell_type": "code",
      "metadata": {
        "id": "k2yDKAbKTs2U",
        "colab_type": "code",
        "colab": {
          "base_uri": "https://localhost:8080/",
          "height": 221
        },
        "outputId": "c803f5bc-e5a8-401a-b274-25b32d1fb158"
      },
      "source": [
        "!pip3 uninstall PyTorch\n",
        "!pip3 install https://download.pytorch.org/whl/cu80/torch-0.1.12.post2-cp36-cp36m-linux_x86_64.whl"
      ],
      "execution_count": 2,
      "outputs": [
        {
          "output_type": "stream",
          "text": [
            "\u001b[33mWARNING: Skipping PyTorch as it is not installed.\u001b[0m\n",
            "Collecting torch==0.1.12.post2\n",
            "\u001b[?25l  Downloading https://download.pytorch.org/whl/cu80/torch-0.1.12.post2-cp36-cp36m-linux_x86_64.whl (481.5MB)\n",
            "\u001b[K     |████████████████████████████████| 481.5MB 33kB/s \n",
            "\u001b[?25hRequirement already satisfied: pyyaml in /usr/local/lib/python3.6/dist-packages (from torch==0.1.12.post2) (3.13)\n",
            "\u001b[31mERROR: torchvision 0.7.0+cu101 has requirement torch==1.6.0, but you'll have torch 0.1.12.post2 which is incompatible.\u001b[0m\n",
            "\u001b[31mERROR: fastai 1.0.61 has requirement torch>=1.0.0, but you'll have torch 0.1.12.post2 which is incompatible.\u001b[0m\n",
            "Installing collected packages: torch\n",
            "  Found existing installation: torch 1.6.0+cu101\n",
            "    Uninstalling torch-1.6.0+cu101:\n",
            "      Successfully uninstalled torch-1.6.0+cu101\n",
            "Successfully installed torch-0.1.12.post2\n"
          ],
          "name": "stdout"
        }
      ]
    },
    {
      "cell_type": "code",
      "metadata": {
        "id": "i_yCvPHiSbbS",
        "colab_type": "code",
        "colab": {
          "base_uri": "https://localhost:8080/",
          "height": 34
        },
        "outputId": "0c9bdf89-c113-4d3d-cdb4-e99706e1d170"
      },
      "source": [
        "%ls\n"
      ],
      "execution_count": 3,
      "outputs": [
        {
          "output_type": "stream",
          "text": [
            "\u001b[0m\u001b[01;34mgdrive\u001b[0m/  \u001b[01;34msample_data\u001b[0m/\n"
          ],
          "name": "stdout"
        }
      ]
    },
    {
      "cell_type": "code",
      "metadata": {
        "id": "Ig1vtOlCUP-W",
        "colab_type": "code",
        "colab": {
          "base_uri": "https://localhost:8080/",
          "height": 34
        },
        "outputId": "b73ebae3-d746-47fc-c255-f14527b06118"
      },
      "source": [
        "%cd .."
      ],
      "execution_count": 4,
      "outputs": [
        {
          "output_type": "stream",
          "text": [
            "/\n"
          ],
          "name": "stdout"
        }
      ]
    },
    {
      "cell_type": "code",
      "metadata": {
        "id": "AS9A2R04USA7",
        "colab_type": "code",
        "colab": {
          "base_uri": "https://localhost:8080/",
          "height": 136
        },
        "outputId": "09f7b504-44ca-4f90-c67c-fb05121dca4f"
      },
      "source": [
        "%ls"
      ],
      "execution_count": 5,
      "outputs": [
        {
          "output_type": "stream",
          "text": [
            "\u001b[0m\u001b[01;34mbin\u001b[0m/                                       \u001b[01;34metc\u001b[0m/    \u001b[01;34mopt\u001b[0m/    \u001b[01;34msys\u001b[0m/\n",
            "\u001b[01;34mboot\u001b[0m/                                      \u001b[01;34mhome\u001b[0m/   \u001b[01;34mproc\u001b[0m/   \u001b[01;34mtensorflow-1.15.2\u001b[0m/\n",
            "\u001b[01;34mcontent\u001b[0m/                                   \u001b[01;34mlib\u001b[0m/    \u001b[01;34mroot\u001b[0m/   \u001b[30;42mtmp\u001b[0m/\n",
            "\u001b[01;34mdatalab\u001b[0m/                                   \u001b[01;34mlib32\u001b[0m/  \u001b[01;34mrun\u001b[0m/    \u001b[01;34mtools\u001b[0m/\n",
            "\u001b[01;34mdev\u001b[0m/                                       \u001b[01;34mlib64\u001b[0m/  \u001b[01;34msbin\u001b[0m/   \u001b[01;34musr\u001b[0m/\n",
            "dlib-19.18.0-cp27-cp27mu-linux_x86_64.whl  \u001b[01;34mmedia\u001b[0m/  \u001b[01;34msrv\u001b[0m/    \u001b[01;34mvar\u001b[0m/\n",
            "dlib-19.18.0-cp36-cp36m-linux_x86_64.whl   \u001b[01;34mmnt\u001b[0m/    \u001b[01;34mswift\u001b[0m/\n"
          ],
          "name": "stdout"
        }
      ]
    },
    {
      "cell_type": "code",
      "metadata": {
        "id": "tl8c_l-1UUfv",
        "colab_type": "code",
        "colab": {
          "base_uri": "https://localhost:8080/",
          "height": 34
        },
        "outputId": "662125d4-7acc-4e1c-f71b-72e2665ed369"
      },
      "source": [
        "%cd content/gdrive/My Drive/A3C - Breakout"
      ],
      "execution_count": 6,
      "outputs": [
        {
          "output_type": "stream",
          "text": [
            "/content/gdrive/My Drive/A3C - Breakout\n"
          ],
          "name": "stdout"
        }
      ]
    },
    {
      "cell_type": "code",
      "metadata": {
        "id": "tG-OacXkUboq",
        "colab_type": "code",
        "colab": {
          "base_uri": "https://localhost:8080/",
          "height": 34
        },
        "outputId": "49a9f46d-388d-47e6-b4ba-2c9f12fd2cd3"
      },
      "source": [
        "%cd Code_No_Comment"
      ],
      "execution_count": 7,
      "outputs": [
        {
          "output_type": "stream",
          "text": [
            "/content/gdrive/My Drive/A3C - Breakout/Code_No_Comment\n"
          ],
          "name": "stdout"
        }
      ]
    },
    {
      "cell_type": "code",
      "metadata": {
        "id": "Uu_FDscXWXHZ",
        "colab_type": "code",
        "colab": {
          "base_uri": "https://localhost:8080/",
          "height": 408
        },
        "outputId": "1ac7b540-e82f-4a65-cdb1-3f3af85f0e43"
      },
      "source": [
        "!pip install gym==0.9.3"
      ],
      "execution_count": 8,
      "outputs": [
        {
          "output_type": "stream",
          "text": [
            "Collecting gym==0.9.3\n",
            "\u001b[?25l  Downloading https://files.pythonhosted.org/packages/90/64/010f682f0fc393f00938578c933f7b39c5c45a2cf7cfc4a6fbf7ba2d9426/gym-0.9.3.tar.gz (157kB)\n",
            "\u001b[K     |████████████████████████████████| 163kB 2.9MB/s \n",
            "\u001b[?25hRequirement already satisfied: numpy>=1.10.4 in /usr/local/lib/python3.6/dist-packages (from gym==0.9.3) (1.18.5)\n",
            "Requirement already satisfied: requests>=2.0 in /usr/local/lib/python3.6/dist-packages (from gym==0.9.3) (2.23.0)\n",
            "Requirement already satisfied: six in /usr/local/lib/python3.6/dist-packages (from gym==0.9.3) (1.15.0)\n",
            "Requirement already satisfied: pyglet>=1.2.0 in /usr/local/lib/python3.6/dist-packages (from gym==0.9.3) (1.5.0)\n",
            "Requirement already satisfied: chardet<4,>=3.0.2 in /usr/local/lib/python3.6/dist-packages (from requests>=2.0->gym==0.9.3) (3.0.4)\n",
            "Requirement already satisfied: certifi>=2017.4.17 in /usr/local/lib/python3.6/dist-packages (from requests>=2.0->gym==0.9.3) (2020.6.20)\n",
            "Requirement already satisfied: idna<3,>=2.5 in /usr/local/lib/python3.6/dist-packages (from requests>=2.0->gym==0.9.3) (2.10)\n",
            "Requirement already satisfied: urllib3!=1.25.0,!=1.25.1,<1.26,>=1.21.1 in /usr/local/lib/python3.6/dist-packages (from requests>=2.0->gym==0.9.3) (1.24.3)\n",
            "Requirement already satisfied: future in /usr/local/lib/python3.6/dist-packages (from pyglet>=1.2.0->gym==0.9.3) (0.16.0)\n",
            "Building wheels for collected packages: gym\n",
            "  Building wheel for gym (setup.py) ... \u001b[?25l\u001b[?25hdone\n",
            "  Created wheel for gym: filename=gym-0.9.3-cp36-none-any.whl size=215954 sha256=74c1d3cd49834691f8ce45aca717151a635bad8584f6afc630c0e49848465396\n",
            "  Stored in directory: /root/.cache/pip/wheels/c4/a4/34/001ad9f0097cb178e3c28e4e366912e8a38781efa6a3faa748\n",
            "Successfully built gym\n",
            "\u001b[31mERROR: dopamine-rl 1.0.5 has requirement gym>=0.10.5, but you'll have gym 0.9.3 which is incompatible.\u001b[0m\n",
            "Installing collected packages: gym\n",
            "  Found existing installation: gym 0.17.2\n",
            "    Uninstalling gym-0.17.2:\n",
            "      Successfully uninstalled gym-0.17.2\n",
            "Successfully installed gym-0.9.3\n"
          ],
          "name": "stdout"
        }
      ]
    },
    {
      "cell_type": "code",
      "metadata": {
        "id": "DA1UIJ1LUgdX",
        "colab_type": "code",
        "colab": {
          "base_uri": "https://localhost:8080/",
          "height": 1000
        },
        "outputId": "999d3ba2-8e47-436f-967e-5f2073d773e1"
      },
      "source": [
        "!python main.py"
      ],
      "execution_count": null,
      "outputs": [
        {
          "output_type": "stream",
          "text": [
            "[2020-08-10 04:03:29,757] Making new env: Breakout-v0\n",
            "/usr/local/lib/python3.6/dist-packages/gym/envs/registration.py:17: PkgResourcesDeprecationWarning: Parameters to load are deprecated.  Call .resolve and .require separately.\n",
            "  result = entry_point.load(False)\n",
            "[2020-08-10 04:03:30,114] Making new env: Breakout-v0\n",
            "[2020-08-10 04:03:30,125] Making new env: Breakout-v0\n",
            "[2020-08-10 04:03:30,123] Making new env: Breakout-v0\n",
            "[2020-08-10 04:03:30,133] Making new env: Breakout-v0\n",
            "[2020-08-10 04:03:30,134] Making new env: Breakout-v0\n",
            "[2020-08-10 04:03:30,139] Making new env: Breakout-v0\n",
            "[2020-08-10 04:03:30,148] Making new env: Breakout-v0\n",
            "[2020-08-10 04:03:30,171] Making new env: Breakout-v0\n",
            "[2020-08-10 04:03:30,189] Making new env: Breakout-v0\n",
            "[2020-08-10 04:03:30,198] Making new env: Breakout-v0\n",
            "[2020-08-10 04:03:30,228] Making new env: Breakout-v0\n",
            "[2020-08-10 04:03:30,229] Making new env: Breakout-v0\n",
            "[2020-08-10 04:03:30,263] Making new env: Breakout-v0\n",
            "[2020-08-10 04:03:30,303] Making new env: Breakout-v0\n",
            "[2020-08-10 04:03:30,341] Making new env: Breakout-v0\n",
            "[2020-08-10 04:03:30,384] Making new env: Breakout-v0\n",
            "[2020-08-10 04:03:30,421] Making new env: Breakout-v0\n",
            "[2020-08-10 04:03:33,466] Clearing 18 monitor files from previous run (because force=True was provided)\n",
            "[2020-08-10 04:03:37,239] Starting new video recorder writing to /content/gdrive/My Drive/A3C - Breakout/Code_No_Comment/test/openaigym.video.0.370.video000000.mp4\n",
            "Time 00h 00m 08s, episode reward 0.0, episode length 152\n",
            "[2020-08-10 04:03:48,354] Starting new video recorder writing to /content/gdrive/My Drive/A3C - Breakout/Code_No_Comment/test/openaigym.video.0.370.video000001.mp4\n",
            "Time 00h 01m 18s, episode reward 0.0, episode length 167\n",
            "Time 00h 02m 27s, episode reward 0.0, episode length 161\n",
            "Time 00h 03m 35s, episode reward 0.0, episode length 159\n",
            "Time 00h 04m 43s, episode reward 0.0, episode length 164\n",
            "Time 00h 05m 51s, episode reward 0.0, episode length 160\n",
            "Time 00h 06m 59s, episode reward 0.0, episode length 163\n",
            "Time 00h 08m 07s, episode reward 0.0, episode length 157\n",
            "[2020-08-10 04:11:46,122] Starting new video recorder writing to /content/gdrive/My Drive/A3C - Breakout/Code_No_Comment/test/openaigym.video.0.370.video000008.mp4\n",
            "Time 00h 09m 16s, episode reward 0.0, episode length 162\n",
            "Time 00h 10m 24s, episode reward 0.0, episode length 159\n",
            "Time 00h 11m 32s, episode reward 0.0, episode length 165\n",
            "Time 00h 12m 40s, episode reward 0.0, episode length 161\n",
            "Time 00h 21m 07s, episode reward 0.0, episode length 10000\n",
            "Time 00h 29m 29s, episode reward 0.0, episode length 10000\n",
            "Time 00h 38m 05s, episode reward 0.0, episode length 10000\n",
            "Time 00h 46m 45s, episode reward 0.0, episode length 10000\n",
            "Time 00h 55m 27s, episode reward 0.0, episode length 10000\n",
            "Time 01h 03m 52s, episode reward 0.0, episode length 10000\n",
            "Time 01h 12m 20s, episode reward 0.0, episode length 10000\n",
            "Time 01h 20m 46s, episode reward 0.0, episode length 10000\n",
            "Time 01h 29m 16s, episode reward 0.0, episode length 10000\n",
            "Time 01h 37m 45s, episode reward 0.0, episode length 10000\n",
            "Time 01h 46m 25s, episode reward 0.0, episode length 10000\n",
            "Time 01h 54m 58s, episode reward 0.0, episode length 10000\n",
            "Time 02h 03m 30s, episode reward 0.0, episode length 10000\n",
            "Time 02h 11m 56s, episode reward 0.0, episode length 10000\n",
            "Time 02h 20m 30s, episode reward 0.0, episode length 10000\n",
            "[2020-08-10 06:24:09,771] Starting new video recorder writing to /content/gdrive/My Drive/A3C - Breakout/Code_No_Comment/test/openaigym.video.0.370.video000027.mp4\n",
            "Time 02h 21m 46s, episode reward 3.0, episode length 295\n",
            "Time 02h 30m 19s, episode reward 2.0, episode length 10000\n",
            "Time 02h 38m 38s, episode reward 0.0, episode length 10000\n",
            "Time 02h 39m 51s, episode reward 3.0, episode length 280\n",
            "Time 02h 48m 14s, episode reward 1.0, episode length 10000\n",
            "Time 02h 56m 41s, episode reward 0.0, episode length 10000\n",
            "Time 03h 05m 20s, episode reward 1.0, episode length 10000\n",
            "Time 03h 13m 52s, episode reward 4.0, episode length 10000\n",
            "Time 03h 22m 23s, episode reward 4.0, episode length 10000\n",
            "Time 03h 30m 50s, episode reward 0.0, episode length 10000\n",
            "Time 03h 39m 07s, episode reward 0.0, episode length 10000\n",
            "Time 03h 40m 21s, episode reward 3.0, episode length 322\n",
            "Time 03h 48m 34s, episode reward 0.0, episode length 10000\n",
            "Time 03h 49m 41s, episode reward 0.0, episode length 165\n",
            "Time 03h 50m 59s, episode reward 5.0, episode length 408\n",
            "Time 03h 58m 58s, episode reward 2.0, episode length 10000\n",
            "Time 04h 00m 20s, episode reward 7.0, episode length 504\n",
            "Time 04h 01m 30s, episode reward 2.0, episode length 244\n",
            "Time 04h 02m 44s, episode reward 3.0, episode length 302\n",
            "Time 04h 10m 52s, episode reward 7.0, episode length 10000\n",
            "Time 04h 12m 14s, episode reward 6.0, episode length 479\n",
            "Time 04h 13m 34s, episode reward 6.0, episode length 453\n",
            "Time 04h 14m 57s, episode reward 7.0, episode length 499\n",
            "Time 04h 16m 23s, episode reward 8.0, episode length 597\n",
            "Time 04h 17m 38s, episode reward 4.0, episode length 335\n",
            "Time 04h 18m 58s, episode reward 5.0, episode length 432\n",
            "Time 04h 20m 22s, episode reward 7.0, episode length 508\n",
            "Time 04h 21m 39s, episode reward 5.0, episode length 376\n",
            "Time 04h 23m 01s, episode reward 6.0, episode length 485\n",
            "Time 04h 24m 18s, episode reward 4.0, episode length 368\n",
            "Time 04h 25m 30s, episode reward 3.0, episode length 277\n",
            "Time 04h 26m 53s, episode reward 6.0, episode length 491\n",
            "Time 04h 28m 14s, episode reward 9.0, episode length 491\n",
            "Time 04h 29m 30s, episode reward 4.0, episode length 359\n",
            "Time 04h 30m 43s, episode reward 3.0, episode length 281\n",
            "Time 04h 31m 54s, episode reward 2.0, episode length 253\n",
            "Time 04h 33m 15s, episode reward 6.0, episode length 472\n",
            "[2020-08-10 08:36:54,081] Starting new video recorder writing to /content/gdrive/My Drive/A3C - Breakout/Code_No_Comment/test/openaigym.video.0.370.video000064.mp4\n",
            "Time 04h 34m 45s, episode reward 9.0, episode length 619\n",
            "Time 04h 36m 09s, episode reward 7.0, episode length 566\n",
            "Time 04h 37m 38s, episode reward 10.0, episode length 684\n",
            "Time 04h 38m 57s, episode reward 6.0, episode length 447\n",
            "Time 04h 40m 17s, episode reward 7.0, episode length 483\n",
            "Time 04h 41m 39s, episode reward 7.0, episode length 511\n",
            "Time 04h 49m 38s, episode reward 8.0, episode length 10000\n",
            "Time 04h 57m 32s, episode reward 5.0, episode length 10000\n",
            "Time 04h 58m 45s, episode reward 3.0, episode length 300\n",
            "Time 05h 00m 09s, episode reward 7.0, episode length 573\n",
            "Time 05h 01m 21s, episode reward 3.0, episode length 281\n",
            "Time 05h 02m 33s, episode reward 3.0, episode length 283\n",
            "Time 05h 10m 51s, episode reward 9.0, episode length 10000\n",
            "Time 05h 12m 19s, episode reward 10.0, episode length 655\n",
            "Time 05h 13m 31s, episode reward 3.0, episode length 278\n",
            "Time 05h 14m 42s, episode reward 2.0, episode length 248\n",
            "Time 05h 15m 58s, episode reward 5.0, episode length 387\n",
            "Time 05h 17m 22s, episode reward 11.0, episode length 575\n",
            "Time 05h 18m 33s, episode reward 3.0, episode length 282\n",
            "Time 05h 19m 55s, episode reward 7.0, episode length 552\n",
            "Time 05h 21m 12s, episode reward 5.0, episode length 405\n",
            "Time 05h 22m 34s, episode reward 8.0, episode length 558\n",
            "Time 05h 23m 49s, episode reward 4.0, episode length 366\n",
            "Time 05h 25m 12s, episode reward 9.0, episode length 573\n",
            "Time 05h 26m 36s, episode reward 9.0, episode length 608\n",
            "Time 05h 28m 02s, episode reward 8.0, episode length 640\n",
            "Time 05h 29m 28s, episode reward 10.0, episode length 668\n",
            "Time 05h 30m 56s, episode reward 11.0, episode length 711\n",
            "Time 05h 32m 23s, episode reward 10.0, episode length 681\n",
            "Time 05h 33m 39s, episode reward 5.0, episode length 378\n",
            "Time 05h 35m 06s, episode reward 9.0, episode length 683\n",
            "Time 05h 36m 19s, episode reward 4.0, episode length 340\n",
            "Time 05h 37m 39s, episode reward 7.0, episode length 518\n",
            "Time 05h 39m 02s, episode reward 9.0, episode length 594\n",
            "Time 05h 40m 22s, episode reward 7.0, episode length 523\n",
            "Time 05h 41m 37s, episode reward 5.0, episode length 401\n",
            "Time 05h 43m 04s, episode reward 11.0, episode length 713\n",
            "Time 05h 44m 27s, episode reward 8.0, episode length 584\n",
            "Time 05h 45m 46s, episode reward 6.0, episode length 498\n",
            "Time 05h 47m 06s, episode reward 7.0, episode length 518\n",
            "Time 05h 48m 27s, episode reward 8.0, episode length 518\n",
            "Time 05h 49m 55s, episode reward 10.0, episode length 742\n",
            "Time 05h 51m 12s, episode reward 6.0, episode length 432\n",
            "Time 05h 52m 33s, episode reward 8.0, episode length 533\n",
            "Time 05h 53m 57s, episode reward 12.0, episode length 641\n",
            "Time 05h 55m 22s, episode reward 10.0, episode length 649\n",
            "Time 05h 56m 40s, episode reward 6.0, episode length 482\n",
            "Time 05h 57m 51s, episode reward 3.0, episode length 285\n",
            "Time 06h 05m 14s, episode reward 8.0, episode length 10000\n",
            "Time 06h 06m 41s, episode reward 12.0, episode length 717\n",
            "Time 06h 08m 02s, episode reward 8.0, episode length 533\n",
            "Time 06h 09m 21s, episode reward 7.0, episode length 507\n",
            "Time 06h 10m 40s, episode reward 6.0, episode length 494\n",
            "Time 06h 11m 59s, episode reward 7.0, episode length 499\n",
            "Time 06h 13m 22s, episode reward 12.0, episode length 577\n",
            "Time 06h 14m 43s, episode reward 9.0, episode length 555\n",
            "Time 06h 16m 06s, episode reward 9.0, episode length 618\n",
            "Time 06h 17m 23s, episode reward 6.0, episode length 433\n",
            "Time 06h 18m 39s, episode reward 6.0, episode length 427\n",
            "Time 06h 19m 56s, episode reward 6.0, episode length 446\n",
            "Time 06h 27m 10s, episode reward 11.0, episode length 10000\n",
            "[2020-08-10 10:30:49,799] Starting new video recorder writing to /content/gdrive/My Drive/A3C - Breakout/Code_No_Comment/test/openaigym.video.0.370.video000125.mp4\n",
            "Time 06h 28m 32s, episode reward 7.0, episode length 502\n",
            "Time 06h 30m 02s, episode reward 11.0, episode length 710\n",
            "Time 06h 31m 18s, episode reward 5.0, episode length 353\n",
            "Time 06h 32m 35s, episode reward 5.0, episode length 364\n",
            "Time 06h 34m 03s, episode reward 10.0, episode length 613\n",
            "Time 06h 35m 28s, episode reward 12.0, episode length 568\n",
            "Time 06h 36m 56s, episode reward 9.0, episode length 612\n",
            "Time 06h 38m 11s, episode reward 4.0, episode length 348\n",
            "Time 06h 39m 39s, episode reward 9.0, episode length 617\n",
            "Time 06h 41m 05s, episode reward 8.0, episode length 573\n",
            "Time 06h 42m 32s, episode reward 9.0, episode length 613\n",
            "Time 06h 43m 49s, episode reward 5.0, episode length 394\n",
            "Time 06h 45m 05s, episode reward 5.0, episode length 362\n",
            "Time 06h 46m 32s, episode reward 9.0, episode length 602\n",
            "Time 06h 48m 01s, episode reward 11.0, episode length 655\n",
            "Time 06h 49m 30s, episode reward 10.0, episode length 645\n",
            "Time 06h 50m 57s, episode reward 9.0, episode length 576\n",
            "Time 06h 52m 22s, episode reward 8.0, episode length 555\n",
            "Time 06h 53m 53s, episode reward 14.0, episode length 661\n",
            "Time 06h 55m 25s, episode reward 10.0, episode length 713\n",
            "Time 06h 56m 54s, episode reward 11.0, episode length 653\n",
            "Time 06h 58m 26s, episode reward 15.0, episode length 733\n",
            "Time 06h 59m 58s, episode reward 15.0, episode length 737\n",
            "Time 07h 01m 36s, episode reward 15.0, episode length 867\n",
            "Time 07h 02m 52s, episode reward 5.0, episode length 359\n",
            "Time 07h 04m 19s, episode reward 9.0, episode length 600\n",
            "Time 07h 06m 01s, episode reward 23.0, episode length 947\n",
            "Time 07h 13m 56s, episode reward 12.0, episode length 10000\n",
            "Time 07h 15m 13s, episode reward 6.0, episode length 417\n",
            "Time 07h 16m 28s, episode reward 5.0, episode length 354\n",
            "Time 07h 17m 53s, episode reward 10.0, episode length 637\n",
            "Time 07h 19m 20s, episode reward 10.0, episode length 672\n",
            "Time 07h 20m 54s, episode reward 14.0, episode length 844\n",
            "Time 07h 22m 27s, episode reward 14.0, episode length 828\n",
            "Time 07h 23m 50s, episode reward 9.0, episode length 582\n",
            "Time 07h 25m 19s, episode reward 11.0, episode length 740\n",
            "Time 07h 26m 45s, episode reward 9.0, episode length 632\n",
            "Time 07h 28m 18s, episode reward 16.0, episode length 842\n",
            "Time 07h 30m 00s, episode reward 23.0, episode length 1051\n",
            "Time 07h 31m 26s, episode reward 10.0, episode length 648\n",
            "Time 07h 32m 58s, episode reward 12.0, episode length 782\n",
            "Time 07h 34m 25s, episode reward 11.0, episode length 681\n",
            "Time 07h 36m 01s, episode reward 25.0, episode length 910\n",
            "Time 07h 37m 32s, episode reward 12.0, episode length 790\n",
            "Time 07h 38m 51s, episode reward 7.0, episode length 482\n",
            "Time 07h 40m 08s, episode reward 5.0, episode length 413\n",
            "Time 07h 41m 29s, episode reward 8.0, episode length 565\n",
            "Time 07h 42m 50s, episode reward 8.0, episode length 529\n",
            "Time 07h 44m 20s, episode reward 12.0, episode length 775\n",
            "Time 07h 45m 51s, episode reward 17.0, episode length 796\n",
            "Time 07h 47m 07s, episode reward 6.0, episode length 431\n",
            "Time 07h 48m 35s, episode reward 12.0, episode length 716\n",
            "Time 07h 50m 07s, episode reward 12.0, episode length 817\n",
            "Time 07h 51m 33s, episode reward 11.0, episode length 686\n",
            "Time 07h 53m 00s, episode reward 10.0, episode length 680\n",
            "Time 07h 54m 29s, episode reward 15.0, episode length 742\n",
            "Time 07h 55m 50s, episode reward 7.0, episode length 531\n",
            "Time 07h 57m 14s, episode reward 9.0, episode length 599\n",
            "Time 07h 58m 35s, episode reward 11.0, episode length 533\n",
            "Time 07h 59m 56s, episode reward 7.0, episode length 512\n",
            "Time 08h 07m 28s, episode reward 21.0, episode length 10000\n",
            "Time 08h 09m 01s, episode reward 14.0, episode length 822\n",
            "Time 08h 10m 36s, episode reward 17.0, episode length 884\n",
            "Time 08h 12m 11s, episode reward 19.0, episode length 909\n",
            "Time 08h 13m 37s, episode reward 10.0, episode length 674\n",
            "Time 08h 14m 58s, episode reward 8.0, episode length 537\n",
            "Time 08h 16m 31s, episode reward 13.0, episode length 851\n",
            "Time 08h 17m 54s, episode reward 9.0, episode length 527\n",
            "Time 08h 19m 16s, episode reward 8.0, episode length 533\n",
            "Time 08h 20m 47s, episode reward 18.0, episode length 754\n",
            "Time 08h 22m 11s, episode reward 9.0, episode length 604\n",
            "Time 08h 23m 51s, episode reward 14.0, episode length 923\n",
            "Time 08h 25m 15s, episode reward 9.0, episode length 572\n",
            "Time 08h 26m 56s, episode reward 19.0, episode length 943\n",
            "Time 08h 28m 28s, episode reward 15.0, episode length 767\n",
            "Time 08h 30m 02s, episode reward 22.0, episode length 833\n",
            "Time 08h 31m 36s, episode reward 22.0, episode length 856\n",
            "Time 08h 33m 26s, episode reward 27.0, episode length 1254\n",
            "Time 08h 35m 00s, episode reward 15.0, episode length 842\n",
            "Time 08h 36m 36s, episode reward 21.0, episode length 919\n",
            "Time 08h 38m 19s, episode reward 23.0, episode length 1061\n",
            "Time 08h 39m 56s, episode reward 20.0, episode length 962\n",
            "Time 08h 41m 26s, episode reward 11.0, episode length 777\n",
            "Time 08h 42m 55s, episode reward 11.0, episode length 674\n",
            "Time 08h 44m 30s, episode reward 13.0, episode length 783\n",
            "Time 08h 46m 03s, episode reward 15.0, episode length 742\n",
            "Time 08h 47m 35s, episode reward 12.0, episode length 702\n",
            "Time 08h 49m 03s, episode reward 10.0, episode length 602\n",
            "Time 08h 50m 46s, episode reward 16.0, episode length 938\n",
            "Time 08h 52m 28s, episode reward 28.0, episode length 930\n",
            "Time 08h 54m 05s, episode reward 14.0, episode length 809\n",
            "[2020-08-10 12:57:44,359] Starting new video recorder writing to /content/gdrive/My Drive/A3C - Breakout/Code_No_Comment/test/openaigym.video.0.370.video000216.mp4\n",
            "Time 08h 56m 00s, episode reward 20.0, episode length 1080\n",
            "Time 08h 57m 36s, episode reward 11.0, episode length 770\n",
            "Time 08h 59m 15s, episode reward 21.0, episode length 858\n",
            "Time 09h 00m 49s, episode reward 11.0, episode length 753\n",
            "Time 09h 02m 23s, episode reward 11.0, episode length 746\n",
            "Time 09h 03m 59s, episode reward 19.0, episode length 751\n",
            "Time 09h 05m 22s, episode reward 7.0, episode length 500\n",
            "Time 09h 07m 14s, episode reward 33.0, episode length 1145\n",
            "Time 09h 08m 48s, episode reward 12.0, episode length 755\n",
            "Time 09h 10m 34s, episode reward 20.0, episode length 1030\n",
            "Time 09h 12m 12s, episode reward 21.0, episode length 823\n",
            "Time 09h 13m 46s, episode reward 13.0, episode length 773\n",
            "Time 09h 15m 22s, episode reward 13.0, episode length 795\n",
            "Time 09h 17m 00s, episode reward 20.0, episode length 826\n",
            "Time 09h 18m 30s, episode reward 11.0, episode length 647\n",
            "Time 09h 20m 07s, episode reward 18.0, episode length 821\n",
            "Time 09h 21m 38s, episode reward 13.0, episode length 690\n"
          ],
          "name": "stdout"
        }
      ]
    }
  ]
}